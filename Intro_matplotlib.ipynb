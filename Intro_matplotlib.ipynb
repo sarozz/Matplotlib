{
 "cells": [
  {
   "cell_type": "code",
   "execution_count": 11,
   "metadata": {},
   "outputs": [],
   "source": [
    "from matplotlib.backends.backend_agg import FigureCanvasAgg as FigureCanvas #importing figure canvas\n",
    "from matplotlib.figure import Figure #importing figure artist\n",
    "fig = Figure()\n",
    "canvas = FigureCanvas(fig)\n",
    " \n",
    "#create 1000 random numbers using numpy\n",
    "import numpy as np\n",
    "x = np.random.randn(1000)\n",
    "ax = fig.add_subplot(111)  #creating an axes artist\n",
    "ax.hist(x,100) #generating the histogram of 10000 numbers\n",
    "ax.set_title('Normal distrubation with $\\mu=0, \\sigma=1$')\n",
    "fig.savefig('matplotlib_histogram.png')\n"
   ]
  },
  {
   "cell_type": "code",
   "execution_count": null,
   "metadata": {},
   "outputs": [],
   "source": []
  }
 ],
 "metadata": {
  "kernelspec": {
   "display_name": "Python 3",
   "language": "python",
   "name": "python3"
  },
  "language_info": {
   "codemirror_mode": {
    "name": "ipython",
    "version": 3
   },
   "file_extension": ".py",
   "mimetype": "text/x-python",
   "name": "python",
   "nbconvert_exporter": "python",
   "pygments_lexer": "ipython3",
   "version": "3.6.5"
  }
 },
 "nbformat": 4,
 "nbformat_minor": 2
}
